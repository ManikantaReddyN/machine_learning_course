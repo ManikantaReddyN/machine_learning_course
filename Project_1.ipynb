{
 "cells": [
  {
   "cell_type": "markdown",
   "id": "identical-colony",
   "metadata": {},
   "source": [
    "# Tukey Fences\n",
    "## Readme\n",
    "## About\n",
    "> This program calculates Tardy students for each week from participants.csv by calculating outliers in terms of interquartile range\n",
    "\n",
    "### Usage\n",
    "> Change the participants.csv path from C:/Users/nayin/Downloads/participants.csv to downloaded path of .csv file. \n",
    "### Overview\n",
    "> The week data is loaded using csv module into Dict class, the calculate() function calculates quartiles and outlier for each week and tardy() function identifies tardy students based on outlier.\n",
    "### Execution\n",
    "> Run the .pynb file by single cell or all cells"
   ]
  },
  {
   "cell_type": "code",
   "execution_count": 377,
   "id": "forbidden-sewing",
   "metadata": {},
   "outputs": [],
   "source": [
    "import csv"
   ]
  },
  {
   "cell_type": "code",
   "execution_count": 378,
   "id": "complex-flashing",
   "metadata": {},
   "outputs": [],
   "source": [
    "weeks = ['Week 1', 'Week 2', 'Week 3']\n",
    "week1_data = []\n",
    "week2_data = []\n",
    "week3_data = []"
   ]
  },
  {
   "cell_type": "code",
   "execution_count": 379,
   "id": "earned-collaboration",
   "metadata": {},
   "outputs": [],
   "source": [
    "with open(\"C:/Users/nayin/Downloads/participants.csv\", 'r') as file:\n",
    "    csv_file = csv.DictReader(file)\n",
    "    i = 0\n",
    "    week1_data.clear()\n",
    "    week2_data.clear()\n",
    "    week3_data.clear()\n",
    "    for data in csv_file:\n",
    "        week1_data.insert(i,{'Name': data['Name'],'week': int(data[weeks[0]])})\n",
    "        week2_data.insert(i,{'Name': data['Name'],'week': int(data[weeks[1]])})\n",
    "        week3_data.insert(i,{'Name': data['Name'],'week': int(data[weeks[2]])})\n",
    "        i = i+1\n",
    "        "
   ]
  },
  {
   "cell_type": "code",
   "execution_count": 380,
   "id": "remarkable-watershed",
   "metadata": {},
   "outputs": [
    {
     "name": "stdout",
     "output_type": "stream",
     "text": [
      "[{'Name': 'Nora Rutledge', 'week': 159}, {'Name': 'Reef Tapia', 'week': 163}, {'Name': 'Kaleb Cummings', 'week': 156}, {'Name': 'Sameera Knowles', 'week': 165}, {'Name': 'Chelsea Wiley', 'week': 170}, {'Name': 'Kezia Graham', 'week': 159}, {'Name': 'Samiyah Robinson', 'week': 163}, {'Name': 'Trey Khan', 'week': 110}, {'Name': 'Jarrod Moon', 'week': 167}, {'Name': 'Hasan Goulding', 'week': 168}, {'Name': 'Pooja Thornton', 'week': 157}, {'Name': 'Taya Curtis', 'week': 115}, {'Name': 'Wallace Rojas', 'week': 91}, {'Name': 'Arif Gardner', 'week': 172}, {'Name': 'Ameerah Fulton', 'week': 158}, {'Name': 'Sabah Houston', 'week': 159}, {'Name': 'Mikhail Ashton', 'week': 155}, {'Name': 'Penny Bass', 'week': 167}, {'Name': 'Brandon-Lee Bowers', 'week': 171}, {'Name': 'Isadora Erickson', 'week': 169}, {'Name': 'Stephanie Hail', 'week': 156}, {'Name': 'Shelley Wells', 'week': 160}, {'Name': 'Scarlet Cross', 'week': 160}, {'Name': 'Gideon Read', 'week': 167}, {'Name': 'Berat Langley', 'week': 165}, {'Name': 'Gerrard Soto', 'week': 171}, {'Name': 'Elyse Richard', 'week': 168}, {'Name': 'Mikolaj Meyer', 'week': 176}, {'Name': 'Arman Mackie', 'week': 157}, {'Name': 'Ellouise Reyes', 'week': 165}, {'Name': 'Emelie Delacruz', 'week': 166}, {'Name': 'Ricky Humphreys', 'week': 164}]\n"
     ]
    }
   ],
   "source": [
    "print(week1_data)"
   ]
  },
  {
   "cell_type": "code",
   "execution_count": 381,
   "id": "private-effects",
   "metadata": {},
   "outputs": [],
   "source": [
    "def calculate(week_data):\n",
    "    week_data_sorted = sorted(week_data, key=lambda j: j['week'])\n",
    "    n = len(week_data)\n",
    "    q1th = (int((n + 1) * (1 / 4))) - 1\n",
    "    q2th = (int((n + 1) * (2 / 4))) - 1\n",
    "    q3th = (int((n + 1) * (3 / 4))) - 1\n",
    "    q1point = week_data_sorted[q1th]['week']\n",
    "    q2point = week_data_sorted[q2th]['week']\n",
    "    q3point = week_data_sorted[q3th]['week']\n",
    "    k = 1.5\n",
    "    outlier_min = q1point - (k * (q3point - q1point))\n",
    "    outlier_max = q3point + (k * (q3point - q1point))\n",
    "    print('Q1:', q1point, '  Q2:', q2point, '  Q3:', q3point)\n",
    "    print('Range: [', outlier_min, ',', outlier_max, ']')\n",
    "    return outlier_min"
   ]
  },
  {
   "cell_type": "code",
   "execution_count": 382,
   "id": "expressed-anatomy",
   "metadata": {},
   "outputs": [],
   "source": [
    "def tardy(outlier, week_data):\n",
    "    tardy_names = []\n",
    "    print()\n",
    "    for data in week_data:\n",
    "        if data['week'] < outlier:\n",
    "            tardy_names.append({'Name':data['Name'], 'Week': data['week']})\n",
    "\n",
    "    \n",
    "    return tardy_names"
   ]
  },
  {
   "cell_type": "code",
   "execution_count": 383,
   "id": "fiscal-breed",
   "metadata": {
    "scrolled": true
   },
   "outputs": [
    {
     "name": "stdout",
     "output_type": "stream",
     "text": [
      "Q1: 157   Q2: 163   Q3: 167\n",
      "Range: [ 142.0 , 182.0 ]\n"
     ]
    }
   ],
   "source": [
    "week1_outlier = calculate(week1_data)"
   ]
  },
  {
   "cell_type": "code",
   "execution_count": 384,
   "id": "powerful-michael",
   "metadata": {},
   "outputs": [
    {
     "name": "stdout",
     "output_type": "stream",
     "text": [
      "Q1: 168   Q2: 170   Q3: 174\n",
      "Range: [ 159.0 , 183.0 ]\n"
     ]
    }
   ],
   "source": [
    "week2_outlier = calculate(week2_data)"
   ]
  },
  {
   "cell_type": "code",
   "execution_count": 385,
   "id": "proud-substance",
   "metadata": {},
   "outputs": [
    {
     "name": "stdout",
     "output_type": "stream",
     "text": [
      "Q1: 174   Q2: 175   Q3: 178\n",
      "Range: [ 168.0 , 184.0 ]\n"
     ]
    }
   ],
   "source": [
    "week3_outlier = calculate(week3_data)"
   ]
  },
  {
   "cell_type": "code",
   "execution_count": 386,
   "id": "incoming-plymouth",
   "metadata": {},
   "outputs": [
    {
     "name": "stdout",
     "output_type": "stream",
     "text": [
      "\n"
     ]
    }
   ],
   "source": [
    "week1_tardy_students = tardy(week1_outlier, week1_data)"
   ]
  },
  {
   "cell_type": "code",
   "execution_count": 387,
   "id": "toxic-plate",
   "metadata": {},
   "outputs": [
    {
     "name": "stdout",
     "output_type": "stream",
     "text": [
      "\n"
     ]
    }
   ],
   "source": [
    "week2_tardy_students = tardy(week2_outlier, week2_data)"
   ]
  },
  {
   "cell_type": "code",
   "execution_count": 388,
   "id": "adolescent-excitement",
   "metadata": {},
   "outputs": [
    {
     "name": "stdout",
     "output_type": "stream",
     "text": [
      "\n"
     ]
    }
   ],
   "source": [
    "week3_tardy_students = tardy(week3_outlier, week3_data)"
   ]
  },
  {
   "cell_type": "code",
   "execution_count": 389,
   "id": "taken-warning",
   "metadata": {},
   "outputs": [
    {
     "name": "stdout",
     "output_type": "stream",
     "text": [
      "Week 1 Tardy Students: [{'Name': 'Trey Khan', 'Week': 110}, {'Name': 'Taya Curtis', 'Week': 115}, {'Name': 'Wallace Rojas', 'Week': 91}]\n"
     ]
    }
   ],
   "source": [
    "print('Week 1 Tardy Students:', week1_tardy_students)"
   ]
  },
  {
   "cell_type": "code",
   "execution_count": 390,
   "id": "considered-testimony",
   "metadata": {},
   "outputs": [
    {
     "name": "stdout",
     "output_type": "stream",
     "text": [
      "Week 2 Tardy Students: [{'Name': 'Trey Khan', 'Week': 66}, {'Name': 'Taya Curtis', 'Week': 74}, {'Name': 'Wallace Rojas', 'Week': 35}, {'Name': 'Stephanie Hail', 'Week': 143}]\n"
     ]
    }
   ],
   "source": [
    "print('Week 2 Tardy Students:', week2_tardy_students)"
   ]
  },
  {
   "cell_type": "code",
   "execution_count": 391,
   "id": "broadband-packing",
   "metadata": {},
   "outputs": [
    {
     "name": "stdout",
     "output_type": "stream",
     "text": [
      "Week 3 Tardy Students: [{'Name': 'Kaleb Cummings', 'Week': 51}, {'Name': 'Ameerah Fulton', 'Week': 24}, {'Name': 'Arman Mackie', 'Week': 9}]\n"
     ]
    }
   ],
   "source": [
    "print('Week 3 Tardy Students:', week3_tardy_students)"
   ]
  },
  {
   "cell_type": "code",
   "execution_count": null,
   "id": "assumed-hostel",
   "metadata": {},
   "outputs": [],
   "source": []
  }
 ],
 "metadata": {
  "kernelspec": {
   "display_name": "Python 3",
   "language": "python",
   "name": "python3"
  },
  "language_info": {
   "codemirror_mode": {
    "name": "ipython",
    "version": 3
   },
   "file_extension": ".py",
   "mimetype": "text/x-python",
   "name": "python",
   "nbconvert_exporter": "python",
   "pygments_lexer": "ipython3",
   "version": "3.8.7"
  }
 },
 "nbformat": 4,
 "nbformat_minor": 5
}
