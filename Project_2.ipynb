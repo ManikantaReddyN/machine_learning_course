{
 "cells": [
  {
   "cell_type": "markdown",
   "metadata": {},
   "source": [
    "# Manikanta Reddy Nayini\n",
    "## Project 2\n",
    "###  In this project NumPy is used to implement vectorized linear and polynomial regression models and compare their performance using separate training and validation sets."
   ]
  },
  {
   "cell_type": "code",
   "execution_count": 1,
   "metadata": {},
   "outputs": [],
   "source": [
    "import numpy as np\n",
    "import matplotlib.pyplot as plt"
   ]
  },
  {
   "cell_type": "markdown",
   "metadata": {},
   "source": [
    "#### 1. Use the NumPy load() method to read the dataset. The data contains two arrays:'features', which contains the variables CRIM through LSTAT, and 'target', which contains the variable MEDV.\n"
   ]
  },
  {
   "cell_type": "code",
   "execution_count": 2,
   "metadata": {},
   "outputs": [],
   "source": [
    "data = np.load('boston.npz')"
   ]
  },
  {
   "cell_type": "markdown",
   "metadata": {},
   "source": [
    "#### 2. Set aside the first 102 items (20% of the total) as a test set, and the remaining 404 items for training."
   ]
  },
  {
   "cell_type": "code",
   "execution_count": 3,
   "metadata": {},
   "outputs": [],
   "source": [
    "validation_x =  data['features'][0:102]\n",
    "validation_t =  data['target'][0:102]\n",
    "training_x = data['features'][102:506]\n",
    "training_t = data['target'][102:506]"
   ]
  },
  {
   "cell_type": "code",
   "execution_count": 4,
   "metadata": {},
   "outputs": [],
   "source": [
    "X = np.array(training_x[:,5])\n",
    "t = np.array(training_t)\n",
    "tempx = X\n",
    "tempt = t"
   ]
  },
  {
   "cell_type": "code",
   "execution_count": 5,
   "metadata": {},
   "outputs": [
    {
     "name": "stdout",
     "output_type": "stream",
     "text": [
      "(404,)\n",
      "(404,)\n"
     ]
    }
   ],
   "source": [
    "print(X.shape)\n",
    "print(t.T.shape)"
   ]
  },
  {
   "cell_type": "markdown",
   "metadata": {},
   "source": [
    "#### 3. Create a scatterplot of the training data showing the relationship between the number ofrooms and the median value of a home. Does the relationship appear to be linear?"
   ]
  },
  {
   "cell_type": "code",
   "execution_count": 6,
   "metadata": {},
   "outputs": [
    {
     "data": {
      "image/png": "[encoded data removed]",
      "text/plain": [
       "<Figure size 432x288 with 1 Axes>"
      ]
     },
     "metadata": {
      "needs_background": "light"
     },
     "output_type": "display_data"
    }
   ],
   "source": [
    "plt.scatter(tempx, tempt)\n",
    "plt.xlabel('Average Number of Rooms[RM]')\n",
    "plt.ylabel('Price in $1000s [MEDV]')\n",
    "plt.show()"
   ]
  },
  {
   "cell_type": "markdown",
   "metadata": {},
   "source": [
    "#### 4. With RM as X and MEDV as t, use np.linalg.inv() to compute w for the training set. What is the equation for MEDV as a linear function of RM?"
   ]
  },
  {
   "cell_type": "code",
   "execution_count": 7,
   "metadata": {},
   "outputs": [
    {
     "name": "stdout",
     "output_type": "stream",
     "text": [
      "(404, 1)\n",
      "(404, 2)\n",
      "[[1.    5.96 ]\n",
      " [1.    6.678]\n",
      " [1.    6.416]\n",
      " [1.    5.412]\n",
      " [1.    6.333]\n",
      " [1.    5.965]\n",
      " [1.    5.856]\n",
      " [1.    6.951]\n",
      " [1.    5.885]\n",
      " [1.    5.782]\n",
      " [1.    6.151]\n",
      " [1.    6.816]\n",
      " [1.    5.787]\n",
      " [1.    5.593]\n",
      " [1.    6.122]\n",
      " [1.    5.019]\n",
      " [1.    6.315]\n",
      " [1.    5.012]\n",
      " [1.    5.705]\n",
      " [1.    5.905]\n",
      " [1.    6.549]\n",
      " [1.    7.041]\n",
      " [1.    6.209]\n",
      " [1.    8.398]\n",
      " [1.    6.29 ]\n",
      " [1.    6.852]\n",
      " [1.    8.704]\n",
      " [1.    5.87 ]\n",
      " [1.    8.247]\n",
      " [1.    5.731]\n",
      " [1.    5.605]\n",
      " [1.    7.249]\n",
      " [1.    6.437]\n",
      " [1.    6.593]\n",
      " [1.    5.803]\n",
      " [1.    6.458]\n",
      " [1.    6.114]\n",
      " [1.    7.333]\n",
      " [1.    6.438]\n",
      " [1.    5.706]\n",
      " [1.    5.036]\n",
      " [1.    5.836]\n",
      " [1.    7.454]\n",
      " [1.    5.92 ]\n",
      " [1.    6.009]\n",
      " [1.    6.431]\n",
      " [1.    5.608]\n",
      " [1.    6.245]\n",
      " [1.    6.317]\n",
      " [1.    6.487]\n",
      " [1.    5.404]\n",
      " [1.    6.474]\n",
      " [1.    5.927]\n",
      " [1.    6.98 ]\n",
      " [1.    5.682]\n",
      " [1.    5.759]\n",
      " [1.    6.393]\n",
      " [1.    5.456]\n",
      " [1.    6.421]\n",
      " [1.    6.004]\n",
      " [1.    6.319]\n",
      " [1.    6.415]\n",
      " [1.    7.185]\n",
      " [1.    6.193]\n",
      " [1.    3.863]\n",
      " [1.    5.928]\n",
      " [1.    6.556]\n",
      " [1.    6.511]\n",
      " [1.    6.172]\n",
      " [1.    5.344]\n",
      " [1.    6.229]\n",
      " [1.    5.617]\n",
      " [1.    5.961]\n",
      " [1.    6.174]\n",
      " [1.    6.417]\n",
      " [1.    6.411]\n",
      " [1.    5.747]\n",
      " [1.    5.884]\n",
      " [1.    6.431]\n",
      " [1.    7.178]\n",
      " [1.    6.341]\n",
      " [1.    6.75 ]\n",
      " [1.    6.229]\n",
      " [1.    8.266]\n",
      " [1.    6.115]\n",
      " [1.    5.304]\n",
      " [1.    6.127]\n",
      " [1.    6.195]\n",
      " [1.    6.619]\n",
      " [1.    6.348]\n",
      " [1.    6.185]\n",
      " [1.    6.38 ]\n",
      " [1.    4.138]\n",
      " [1.    4.368]\n",
      " [1.    6.167]\n",
      " [1.    7.645]\n",
      " [1.    6.897]\n",
      " [1.    5.39 ]\n",
      " [1.    5.898]\n",
      " [1.    5.454]\n",
      " [1.    6.655]\n",
      " [1.    5.272]\n",
      " [1.    6.625]\n",
      " [1.    6.242]\n",
      " [1.    4.963]\n",
      " [1.    5.986]\n",
      " [1.    4.973]\n",
      " [1.    6.004]\n",
      " [1.    6.014]\n",
      " [1.    5.976]\n",
      " [1.    6.426]\n",
      " [1.    8.069]\n",
      " [1.    6.208]\n",
      " [1.    5.572]\n",
      " [1.    6.728]\n",
      " [1.    7.691]\n",
      " [1.    5.888]\n",
      " [1.    6.169]\n",
      " [1.    6.254]\n",
      " [1.    6.335]\n",
      " [1.    5.708]\n",
      " [1.    6.297]\n",
      " [1.    6.484]\n",
      " [1.    6.009]\n",
      " [1.    6.072]\n",
      " [1.    6.345]\n",
      " [1.    5.857]\n",
      " [1.    5.879]\n",
      " [1.    6.38 ]\n",
      " [1.    6.23 ]\n",
      " [1.    6.127]\n",
      " [1.    6.649]\n",
      " [1.    6.027]\n",
      " [1.    5.628]\n",
      " [1.    6.982]\n",
      " [1.    5.39 ]\n",
      " [1.    6.145]\n",
      " [1.    6.635]\n",
      " [1.    7.061]\n",
      " [1.    4.138]\n",
      " [1.    5.427]\n",
      " [1.    7.875]\n",
      " [1.    5.926]\n",
      " [1.    6.728]\n",
      " [1.    6.31 ]\n",
      " [1.    5.869]\n",
      " [1.    6.749]\n",
      " [1.    6.127]\n",
      " [1.    5.85 ]\n",
      " [1.    6.43 ]\n",
      " [1.    6.715]\n",
      " [1.    6.142]\n",
      " [1.    5.972]\n",
      " [1.    6.854]\n",
      " [1.    5.914]\n",
      " [1.    5.875]\n",
      " [1.    6.326]\n",
      " [1.    6.185]\n",
      " [1.    5.871]\n",
      " [1.    8.725]\n",
      " [1.    5.783]\n",
      " [1.    6.167]\n",
      " [1.    7.358]\n",
      " [1.    6.065]\n",
      " [1.    7.47 ]\n",
      " [1.    5.981]\n",
      " [1.    4.652]\n",
      " [1.    6.951]\n",
      " [1.    7.163]\n",
      " [1.    6.383]\n",
      " [1.    7.203]\n",
      " [1.    5.757]\n",
      " [1.    5.186]\n",
      " [1.    6.095]\n",
      " [1.    5.889]\n",
      " [1.    6.546]\n",
      " [1.    5.957]\n",
      " [1.    6.86 ]\n",
      " [1.    6.404]\n",
      " [1.    6.51 ]\n",
      " [1.    6.461]\n",
      " [1.    6.101]\n",
      " [1.    6.152]\n",
      " [1.    5.362]\n",
      " [1.    5.631]\n",
      " [1.    5.807]\n",
      " [1.    6.545]\n",
      " [1.    6.112]\n",
      " [1.    6.372]\n",
      " [1.    5.818]\n",
      " [1.    6.718]\n",
      " [1.    5.859]\n",
      " [1.    6.064]\n",
      " [1.    6.879]\n",
      " [1.    7.416]\n",
      " [1.    6.434]\n",
      " [1.    8.04 ]\n",
      " [1.    6.77 ]\n",
      " [1.    6.13 ]\n",
      " [1.    6.762]\n",
      " [1.    6.326]\n",
      " [1.    5.683]\n",
      " [1.    6.086]\n",
      " [1.    7.088]\n",
      " [1.    7.274]\n",
      " [1.    5.854]\n",
      " [1.    6.565]\n",
      " [1.    5.936]\n",
      " [1.    6.14 ]\n",
      " [1.    6.051]\n",
      " [1.    5.093]\n",
      " [1.    5.627]\n",
      " [1.    6.152]\n",
      " [1.    4.926]\n",
      " [1.    6.513]\n",
      " [1.    6.316]\n",
      " [1.    5.602]\n",
      " [1.    5.414]\n",
      " [1.    6.023]\n",
      " [1.    7.007]\n",
      " [1.    6.211]\n",
      " [1.    6.63 ]\n",
      " [1.    5.713]\n",
      " [1.    5.637]\n",
      " [1.    7.148]\n",
      " [1.    6.059]\n",
      " [1.    5.878]\n",
      " [1.    6.167]\n",
      " [1.    7.024]\n",
      " [1.    6.579]\n",
      " [1.    6.59 ]\n",
      " [1.    7.104]\n",
      " [1.    6.968]\n",
      " [1.    7.765]\n",
      " [1.    6.456]\n",
      " [1.    5.713]\n",
      " [1.    5.985]\n",
      " [1.    6.216]\n",
      " [1.    5.565]\n",
      " [1.    6.006]\n",
      " [1.    5.875]\n",
      " [1.    5.935]\n",
      " [1.    5.998]\n",
      " [1.    6.433]\n",
      " [1.    6.874]\n",
      " [1.    7.393]\n",
      " [1.    6.122]\n",
      " [1.    6.516]\n",
      " [1.    6.03 ]\n",
      " [1.    5.99 ]\n",
      " [1.    5.701]\n",
      " [1.    6.696]\n",
      " [1.    5.896]\n",
      " [1.    4.903]\n",
      " [1.    7.147]\n",
      " [1.    6.826]\n",
      " [1.    6.417]\n",
      " [1.    6.164]\n",
      " [1.    5.707]\n",
      " [1.    6.657]\n",
      " [1.    5.983]\n",
      " [1.    6.861]\n",
      " [1.    6.495]\n",
      " [1.    5.741]\n",
      " [1.    7.929]\n",
      " [1.    6.849]\n",
      " [1.    6.563]\n",
      " [1.    6.794]\n",
      " [1.    6.003]\n",
      " [1.    7.236]\n",
      " [1.    5.872]\n",
      " [1.    5.924]\n",
      " [1.    7.412]\n",
      " [1.    6.782]\n",
      " [1.    6.113]\n",
      " [1.    6.405]\n",
      " [1.    6.021]\n",
      " [1.    5.851]\n",
      " [1.    6.162]\n",
      " [1.    6.454]\n",
      " [1.    7.686]\n",
      " [1.    5.961]\n",
      " [1.    6.405]\n",
      " [1.    6.726]\n",
      " [1.    6.108]\n",
      " [1.    6.701]\n",
      " [1.    4.519]\n",
      " [1.    5.952]\n",
      " [1.    6.015]\n",
      " [1.    6.871]\n",
      " [1.    6.482]\n",
      " [1.    6.096]\n",
      " [1.    5.709]\n",
      " [1.    6.069]\n",
      " [1.    5.966]\n",
      " [1.    6.153]\n",
      " [1.    6.842]\n",
      " [1.    6.103]\n",
      " [1.    6.129]\n",
      " [1.    6.081]\n",
      " [1.    5.88 ]\n",
      " [1.    7.267]\n",
      " [1.    6.209]\n",
      " [1.    6.8  ]\n",
      " [1.    6.495]\n",
      " [1.    6.453]\n",
      " [1.    6.758]\n",
      " [1.    5.277]\n",
      " [1.    6.03 ]\n",
      " [1.    6.635]\n",
      " [1.    6.63 ]\n",
      " [1.    5.67 ]\n",
      " [1.    8.375]\n",
      " [1.    6.219]\n",
      " [1.    5.56 ]\n",
      " [1.    6.402]\n",
      " [1.    6.25 ]\n",
      " [1.    5.813]\n",
      " [1.    5.913]\n",
      " [1.    5.604]\n",
      " [1.    5.794]\n",
      " [1.    5.349]\n",
      " [1.    7.853]\n",
      " [1.    6.481]\n",
      " [1.    6.229]\n",
      " [1.    5.762]\n",
      " [1.    6.312]\n",
      " [1.    6.144]\n",
      " [1.    6.794]\n",
      " [1.    6.781]\n",
      " [1.    6.031]\n",
      " [1.    5.727]\n",
      " [1.    5.949]\n",
      " [1.    7.802]\n",
      " [1.    6.144]\n",
      " [1.    6.232]\n",
      " [1.    7.135]\n",
      " [1.    7.52 ]\n",
      " [1.    6.629]\n",
      " [1.    6.567]\n",
      " [1.    6.425]\n",
      " [1.    6.727]\n",
      " [1.    5.   ]\n",
      " [1.    7.489]\n",
      " [1.    6.739]\n",
      " [1.    6.202]\n",
      " [1.    5.926]\n",
      " [1.    7.42 ]\n",
      " [1.    6.606]\n",
      " [1.    5.837]\n",
      " [1.    4.97 ]\n",
      " [1.    4.88 ]\n",
      " [1.    6.618]\n",
      " [1.    5.874]\n",
      " [1.    6.406]\n",
      " [1.    6.824]\n",
      " [1.    6.552]\n",
      " [1.    5.822]\n",
      " [1.    5.468]\n",
      " [1.    5.569]\n",
      " [1.    6.575]\n",
      " [1.    6.49 ]\n",
      " [1.    5.841]\n",
      " [1.    6.395]\n",
      " [1.    7.313]\n",
      " [1.    6.375]\n",
      " [1.    6.674]\n",
      " [1.    6.975]\n",
      " [1.    5.57 ]\n",
      " [1.    5.854]\n",
      " [1.    5.95 ]\n",
      " [1.    5.155]\n",
      " [1.    6.092]\n",
      " [1.    6.957]\n",
      " [1.    5.951]\n",
      " [1.    8.337]\n",
      " [1.    5.987]\n",
      " [1.    7.079]\n",
      " [1.    6.538]\n",
      " [1.    6.266]\n",
      " [1.    5.693]\n",
      " [1.    6.642]\n",
      " [1.    6.683]\n",
      " [1.    7.107]\n",
      " [1.    6.02 ]\n",
      " [1.    6.968]\n",
      " [1.    6.083]\n",
      " [1.    7.155]\n",
      " [1.    6.279]\n",
      " [1.    5.663]\n",
      " [1.    6.373]\n",
      " [1.    6.436]\n",
      " [1.    6.226]\n",
      " [1.    8.259]\n",
      " [1.    6.066]\n",
      " [1.    5.856]\n",
      " [1.    6.24 ]\n",
      " [1.    6.98 ]\n",
      " [1.    5.877]\n",
      " [1.    4.628]\n",
      " [1.    5.936]\n",
      " [1.    5.786]\n",
      " [1.    6.012]\n",
      " [1.    6.54 ]]\n",
      "-34.127314809184554 9.035912061147258\n"
     ]
    }
   ],
   "source": [
    "X = np.reshape(X, (-1, 1))\n",
    "print(X.shape)\n",
    "X = np.hstack((np.ones_like(X),X))\n",
    "print(X.shape)\n",
    "print(X)\n",
    "XT = X.T\n",
    "XTt = np.dot(XT,t)\n",
    "XTX = np.dot(XT,X)\n",
    "invX = np.linalg.inv(XTX)\n",
    "w = np.dot(invX,XTt)\n",
    "print(w[0],w[1])"
   ]
  },
  {
   "cell_type": "markdown",
   "metadata": {},
   "source": [
    "#### 5. Use w to add a line representing the least squares fit to your scatter plot from experiment (3). How well does the model appear to fit the training set?"
   ]
  },
  {
   "cell_type": "code",
   "execution_count": 8,
   "metadata": {},
   "outputs": [
    {
     "data": {
      "image/png": "[encoded data removed]",
      "text/plain": [
       "<Figure size 432x288 with 1 Axes>"
      ]
     },
     "metadata": {
      "needs_background": "light"
     },
     "output_type": "display_data"
    }
   ],
   "source": [
    "x = np.linspace(4,9,404)\n",
    "y = w[1]*x + w[0]\n",
    "plt.plot(x, y, '-r', label='y = 9.035x-34.127')\n",
    "plt.legend(loc='upper left')\n",
    "plt.scatter(tempx, tempt)\n",
    "plt.xlabel('Average Number of Rooms[RM]')\n",
    "plt.ylabel('Price in $1000s [MEDV]')\n",
    "plt.grid()\n",
    "plt.show()"
   ]
  },
  {
   "cell_type": "markdown",
   "metadata": {},
   "source": [
    "#### 6. Use w to find the predicted response for each value of the RM attribute in the training set, then compute the average loss 𝓛 for the model."
   ]
  },
  {
   "cell_type": "code",
   "execution_count": 9,
   "metadata": {},
   "outputs": [
    {
     "name": "stdout",
     "output_type": "stream",
     "text": [
      "loss : 41.056548831382216\n"
     ]
    }
   ],
   "source": [
    "tnew = np.dot(X,w)\n",
    "temp = 0\n",
    "for i in range(404):\n",
    "    res = (t[i] - tnew[i])\n",
    "    res = res*res\n",
    "    temp = temp+res\n",
    "print(\"loss :\",temp/404)"
   ]
  },
  {
   "cell_type": "markdown",
   "metadata": {},
   "source": [
    "#### 7. Repeat experiment (6) for the test set. How do the training and test MSE values compare? What accounts for the difference?"
   ]
  },
  {
   "cell_type": "code",
   "execution_count": 10,
   "metadata": {},
   "outputs": [],
   "source": [
    "X = np.array(validation_x[:,5])\n",
    "t = np.array(validation_t)"
   ]
  },
  {
   "cell_type": "code",
   "execution_count": 11,
   "metadata": {},
   "outputs": [
    {
     "name": "stdout",
     "output_type": "stream",
     "text": [
      "loss : 53.767877955423245\n"
     ]
    }
   ],
   "source": [
    "X = np.reshape(X, (-1, 1))\n",
    "X = np.hstack((np.ones_like(X),X))\n",
    "tnew = np.dot(X,w)\n",
    "temp = 0\n",
    "for i in range(102):\n",
    "    res = (t[i] - tnew[i])\n",
    "    res = res*res\n",
    "    temp = temp+res\n",
    "print(\"loss :\",temp/102)"
   ]
  },
  {
   "cell_type": "markdown",
   "metadata": {},
   "source": [
    "#### 8. Repeat experiments (4), (6), and (7) using all 13 input features as X. How do the training and test MSEs for this model compare to the values you found for experiment (7)? What accounts for the difference?"
   ]
  },
  {
   "cell_type": "code",
   "execution_count": 12,
   "metadata": {},
   "outputs": [
    {
     "name": "stdout",
     "output_type": "stream",
     "text": [
      "(404, 14)\n",
      "(404, 1)\n"
     ]
    }
   ],
   "source": [
    "X = training_x\n",
    "t = training_t\n",
    "t = np.reshape(t, (-1, 1))\n",
    "b = np.ones((404,1))\n",
    "X = np.hstack((b,X))\n",
    "print(X.shape)\n",
    "print(t.shape)"
   ]
  },
  {
   "cell_type": "code",
   "execution_count": 13,
   "metadata": {},
   "outputs": [
    {
     "name": "stdout",
     "output_type": "stream",
     "text": [
      "[[ 3.19642409e+01]\n",
      " [-1.14552861e-01]\n",
      " [ 4.48932130e-02]\n",
      " [ 2.83755698e-02]\n",
      " [ 2.70909742e+00]\n",
      " [-1.67403672e+01]\n",
      " [ 4.11148209e+00]\n",
      " [-8.47905081e-04]\n",
      " [-1.38493905e+00]\n",
      " [ 3.21084569e-01]\n",
      " [-1.22497115e-02]\n",
      " [-9.12523500e-01]\n",
      " [ 1.02533638e-02]\n",
      " [-4.78414631e-01]]\n"
     ]
    }
   ],
   "source": [
    "XT = X.T\n",
    "XTt = np.dot(XT,t)\n",
    "XTX = np.dot(XT,X)\n",
    "invX = np.linalg.inv(XTX)\n",
    "w = np.dot(invX,XTt)\n",
    "print(w)"
   ]
  },
  {
   "cell_type": "code",
   "execution_count": 14,
   "metadata": {},
   "outputs": [
    {
     "name": "stdout",
     "output_type": "stream",
     "text": [
      "(404, 14)\n"
     ]
    }
   ],
   "source": [
    "print(X.shape)"
   ]
  },
  {
   "cell_type": "code",
   "execution_count": 15,
   "metadata": {},
   "outputs": [
    {
     "name": "stdout",
     "output_type": "stream",
     "text": [
      "Average loss for training data: [21.80719958]\n"
     ]
    }
   ],
   "source": [
    "tnew = np.dot(X,w)\n",
    "temp = 0\n",
    "for i in range(404):\n",
    "    res = (t[i] - tnew[i])\n",
    "    res = res*res\n",
    "    temp = temp+res\n",
    "print(\"Average loss for training data:\",temp/404)"
   ]
  },
  {
   "cell_type": "code",
   "execution_count": 16,
   "metadata": {},
   "outputs": [
    {
     "name": "stdout",
     "output_type": "stream",
     "text": [
      "(102, 13)\n",
      "(102,)\n",
      "(102, 14)\n",
      "(102, 1)\n"
     ]
    }
   ],
   "source": [
    "X = validation_x\n",
    "t = validation_t\n",
    "print(X.shape)\n",
    "print(t.shape)\n",
    "t = np.reshape(t, (-1, 1))\n",
    "b = np.ones((102,1))\n",
    "X = np.hstack((b,X))\n",
    "print(X.shape)\n",
    "print(t.shape)"
   ]
  },
  {
   "cell_type": "code",
   "execution_count": 17,
   "metadata": {},
   "outputs": [
    {
     "name": "stdout",
     "output_type": "stream",
     "text": [
      "Average loss for testing data : [22.8636809]\n"
     ]
    }
   ],
   "source": [
    "tnew = np.dot(X,w)\n",
    "temp = 0\n",
    "for i in range(102):\n",
    "    res = (t[i] - tnew[i])\n",
    "    res = res*res\n",
    "    temp = temp+res\n",
    "print(\"Average loss for testing data :\",temp/102)"
   ]
  },
  {
   "cell_type": "markdown",
   "metadata": {},
   "source": [
    "#### The average loss for testing and training is considerably lower."
   ]
  },
  {
   "cell_type": "markdown",
   "metadata": {},
   "source": [
    "##### 9. Using the value that you found for w for this new model, determine for each feature howmuch a one unit increase in that feature would change the median value of a home.Based on the description of the dataset provided by StatLib, convert your answer to dollars.\n"
   ]
  },
  {
   "cell_type": "code",
   "execution_count": 18,
   "metadata": {},
   "outputs": [
    {
     "name": "stdout",
     "output_type": "stream",
     "text": [
      "-114.55286082089144\n",
      "44.893213009297384\n",
      "28.375569758667396\n",
      "2709.097418694938\n",
      "-16740.367150860948\n",
      "4111.482091304793\n",
      "-0.8479050808641864\n",
      "-1384.9390491423605\n",
      "321.08456938247355\n",
      "-12.249711458006018\n",
      "-912.5235000500993\n",
      "10.253363767853907\n",
      "-478.41463137789833\n"
     ]
    }
   ],
   "source": [
    "for i in range(1,14):\n",
    "    print(w[i][0]*1000)"
   ]
  },
  {
   "cell_type": "code",
   "execution_count": 19,
   "metadata": {},
   "outputs": [],
   "source": [
    "values = ['CRIM','ZN','INDUS','CHAS','NOX','RM','AGE','DIS','RAD','TAX','PTRATIO','B','LSTAT']\n"
   ]
  },
  {
   "cell_type": "code",
   "execution_count": 20,
   "metadata": {},
   "outputs": [
    {
     "name": "stdout",
     "output_type": "stream",
     "text": [
      "CRIM   $ -114.55286082089144\n",
      "ZN   $ 44.893213009297384\n",
      "INDUS   $ 28.375569758667396\n",
      "CHAS   $ 2709.097418694938\n",
      "NOX   $ -16740.367150860948\n",
      "RM   $ 4111.482091304793\n",
      "AGE   $ -0.8479050808641864\n",
      "DIS   $ -1384.9390491423605\n",
      "RAD   $ 321.08456938247355\n",
      "TAX   $ -12.249711458006018\n",
      "PTRATIO   $ -912.5235000500993\n",
      "B   $ 10.253363767853907\n",
      "LSTAT   $ -478.41463137789833\n"
     ]
    }
   ],
   "source": [
    "for i in range(1,14):\n",
    "    print(values[i-1],'  $',w[i][0]*1000)"
   ]
  },
  {
   "cell_type": "markdown",
   "metadata": {},
   "source": [
    "#### 10. Based on the amount of change in the value of a home, which features are most important?"
   ]
  },
  {
   "cell_type": "markdown",
   "metadata": {},
   "source": [
    "> The NOX feature is most important as it is has most negative value:        -16740$"
   ]
  },
  {
   "cell_type": "code",
   "execution_count": null,
   "metadata": {},
   "outputs": [],
   "source": []
  }
 ],
 "metadata": {
  "kernelspec": {
   "display_name": "Python 3",
   "language": "python",
   "name": "python3"
  },
  "language_info": {
   "codemirror_mode": {
    "name": "ipython",
    "version": 3
   },
   "file_extension": ".py",
   "mimetype": "text/x-python",
   "name": "python",
   "nbconvert_exporter": "python",
   "pygments_lexer": "ipython3",
   "version": "3.8.5"
  }
 },
 "nbformat": 4,
 "nbformat_minor": 4
}
