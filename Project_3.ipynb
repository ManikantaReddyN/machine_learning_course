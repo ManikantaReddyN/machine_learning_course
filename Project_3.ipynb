{
 "cells": [
  {
   "cell_type": "markdown",
   "metadata": {},
   "source": [
    "# Manikanta Reddy Nayini\n",
    "## Project 3\n",
    "### In this project  scikit-learn is used, which is a higher-level machine learning library that workswith NumPy, to compare the performance of linear and polynomial regression models.\n"
   ]
  },
  {
   "cell_type": "code",
   "execution_count": 106,
   "metadata": {},
   "outputs": [],
   "source": [
    "import numpy as np\n",
    "import matplotlib.pyplot as plt\n",
    "from sklearn.model_selection import train_test_split\n",
    "from sklearn.linear_model import LinearRegression\n",
    "from sklearn.metrics import mean_squared_error\n",
    "from sklearn.preprocessing import PolynomialFeatures"
   ]
  },
  {
   "cell_type": "markdown",
   "metadata": {},
   "source": [
    "#### 1. Use the NumPy load() method to read the dataset. The data contains two arrays:'features', which contains the variables CRIM through LSTAT, and 'target', which contains the variable MEDV.\n"
   ]
  },
  {
   "cell_type": "code",
   "execution_count": 107,
   "metadata": {},
   "outputs": [],
   "source": [
    "data = np.load('boston.npz')"
   ]
  },
  {
   "cell_type": "code",
   "execution_count": 108,
   "metadata": {},
   "outputs": [],
   "source": [
    "x = data['features']\n",
    "y = data['target']\n",
    "mse_dict = {}"
   ]
  },
  {
   "cell_type": "code",
   "execution_count": 109,
   "metadata": {},
   "outputs": [
    {
     "name": "stdout",
     "output_type": "stream",
     "text": [
      "[8.8730e-02 2.1000e+01 5.6400e+00 0.0000e+00 4.3900e-01 5.9630e+00\n",
      " 4.5700e+01 6.8147e+00 4.0000e+00 2.4300e+02 1.6800e+01 3.9556e+02\n",
      " 1.3450e+01]\n"
     ]
    }
   ],
   "source": [
    "print(x[0])"
   ]
  },
  {
   "cell_type": "markdown",
   "metadata": {},
   "source": [
    "#### 2. Use sklearn.model_selection.train_test_split() to split the features and target values into separate training and test sets. Use 80% of the original data as a training set,and 20% for testing. To make sure that your results are reproducible, pass random_state=(2021-3-11)."
   ]
  },
  {
   "cell_type": "code",
   "execution_count": 110,
   "metadata": {},
   "outputs": [],
   "source": [
    "x_train,x_test,y_train,y_test=train_test_split(x,y,test_size=0.2,random_state=(2021-3-11))"
   ]
  },
  {
   "cell_type": "code",
   "execution_count": 111,
   "metadata": {},
   "outputs": [
    {
     "name": "stdout",
     "output_type": "stream",
     "text": [
      "[[9.76170e-01 0.00000e+00 2.18900e+01 ... 2.12000e+01 2.62760e+02\n",
      "  1.73100e+01]\n",
      " [9.32909e+00 0.00000e+00 1.81000e+01 ... 2.02000e+01 3.96900e+02\n",
      "  1.81300e+01]\n",
      " [2.98190e-01 0.00000e+00 6.20000e+00 ... 1.74000e+01 3.77510e+02\n",
      "  3.92000e+00]\n",
      " ...\n",
      " [7.05042e+00 0.00000e+00 1.81000e+01 ... 2.02000e+01 2.52000e+00\n",
      "  2.32900e+01]\n",
      " [4.81900e-02 8.00000e+01 3.64000e+00 ... 1.64000e+01 3.92890e+02\n",
      "  6.57000e+00]\n",
      " [1.32620e-01 0.00000e+00 8.56000e+00 ... 2.09000e+01 3.94050e+02\n",
      "  1.64700e+01]]\n"
     ]
    }
   ],
   "source": [
    "print(x_train)"
   ]
  },
  {
   "cell_type": "code",
   "execution_count": 112,
   "metadata": {},
   "outputs": [
    {
     "name": "stdout",
     "output_type": "stream",
     "text": [
      "404 102 404\n",
      "(404, 13)\n"
     ]
    }
   ],
   "source": [
    "print(len(x_train), len(x_test), len(y_train))\n",
    "print(x_train.shape)"
   ]
  },
  {
   "cell_type": "markdown",
   "metadata": {},
   "source": [
    "#### 3. Create a scatterplot of the training data showing the relationship between thepercentage of the population that is lower status and the median value of a home. Does the relationship appear to be linear?"
   ]
  },
  {
   "cell_type": "code",
   "execution_count": 113,
   "metadata": {},
   "outputs": [
    {
     "name": "stdout",
     "output_type": "stream",
     "text": [
      "<class 'numpy.ndarray'>\n"
     ]
    }
   ],
   "source": [
    "print(type(x_train))"
   ]
  },
  {
   "cell_type": "code",
   "execution_count": 114,
   "metadata": {},
   "outputs": [],
   "source": [
    "x_lstat = x_train[:,12]\n",
    "y_medv = y_train"
   ]
  },
  {
   "cell_type": "code",
   "execution_count": 115,
   "metadata": {},
   "outputs": [
    {
     "data": {
      "image/png": "[encoded data removed]",
      "text/plain": [
       "<Figure size 432x288 with 1 Axes>"
      ]
     },
     "metadata": {
      "needs_background": "light"
     },
     "output_type": "display_data"
    }
   ],
   "source": [
    "plt.scatter(x_lstat,y_medv)\n",
    "plt.xlabel('Population')\n",
    "plt.ylabel('Price in $1000s [MEDV]')\n",
    "plt.show()"
   ]
  },
  {
   "cell_type": "markdown",
   "metadata": {},
   "source": [
    "#### 4. With LSTAT as X and MEDV as y, create and fit() an sklearn.linear_model.LinearRegression model. Using the coef_ and intercept_attributes of the model, what is the equation for MEDV as a linear function of LSTAT?\n"
   ]
  },
  {
   "cell_type": "code",
   "execution_count": 116,
   "metadata": {},
   "outputs": [
    {
     "name": "stdout",
     "output_type": "stream",
     "text": [
      "(404,) (404,)\n"
     ]
    }
   ],
   "source": [
    "print(x_lstat.shape, y_medv.shape)"
   ]
  },
  {
   "cell_type": "code",
   "execution_count": 117,
   "metadata": {},
   "outputs": [
    {
     "name": "stdout",
     "output_type": "stream",
     "text": [
      "(404, 1)\n",
      "(404, 1)\n"
     ]
    }
   ],
   "source": [
    "X = x_lstat\n",
    "t = y_medv\n",
    "X = np.reshape(X, (-1, 1))\n",
    "t = np.reshape(t, (-1, 1))\n",
    "print(X.shape)\n",
    "print(t.shape)\n"
   ]
  },
  {
   "cell_type": "code",
   "execution_count": 118,
   "metadata": {},
   "outputs": [],
   "source": [
    "reg = LinearRegression().fit(X, t)"
   ]
  },
  {
   "cell_type": "code",
   "execution_count": 119,
   "metadata": {},
   "outputs": [
    {
     "data": {
      "text/plain": [
       "0.560924718711806"
      ]
     },
     "execution_count": 119,
     "metadata": {},
     "output_type": "execute_result"
    }
   ],
   "source": [
    "reg.score(X, t)"
   ]
  },
  {
   "cell_type": "code",
   "execution_count": 120,
   "metadata": {},
   "outputs": [
    {
     "data": {
      "text/plain": [
       "array([[-0.98093888]])"
      ]
     },
     "execution_count": 120,
     "metadata": {},
     "output_type": "execute_result"
    }
   ],
   "source": [
    "reg.coef_"
   ]
  },
  {
   "cell_type": "code",
   "execution_count": 121,
   "metadata": {},
   "outputs": [
    {
     "data": {
      "text/plain": [
       "array([34.99113302])"
      ]
     },
     "execution_count": 121,
     "metadata": {},
     "output_type": "execute_result"
    }
   ],
   "source": [
    "reg.intercept_"
   ]
  },
  {
   "cell_type": "code",
   "execution_count": 122,
   "metadata": {},
   "outputs": [
    {
     "name": "stdout",
     "output_type": "stream",
     "text": [
      "The line equation is: y =  -0.980938881185576 *x +  34.991133021969475\n"
     ]
    }
   ],
   "source": [
    " print('The line equation is: y = ',reg.coef_[0][0],'*x + ',reg.intercept_[0])"
   ]
  },
  {
   "cell_type": "markdown",
   "metadata": {},
   "source": [
    "#### 5. Use the coef_ and intercept_ attributes of the model to add a line representing the least squares fit to your scatter plot from experiment (3). How well does the model appear to fit the training data?\n"
   ]
  },
  {
   "cell_type": "code",
   "execution_count": 123,
   "metadata": {},
   "outputs": [
    {
     "name": "stderr",
     "output_type": "stream",
     "text": [
      "No handles with labels found to put in legend.\n"
     ]
    },
    {
     "data": {
      "image/png": "[encoded data removed]",
      "text/plain": [
       "<Figure size 432x288 with 1 Axes>"
      ]
     },
     "metadata": {
      "needs_background": "light"
     },
     "output_type": "display_data"
    }
   ],
   "source": [
    "x = np.linspace(min(x_lstat),max(x_lstat),404)\n",
    "y = reg.coef_[0]*x + reg.intercept_\n",
    "plt.plot(x, y, '-r')\n",
    "plt.legend(loc='upper left')\n",
    "plt.scatter(x_lstat, y_medv)\n",
    "plt.xlabel('Lower Status of The Population[LSTAT]')\n",
    "plt.ylabel('Price in $1000s [MEDV]')\n",
    "plt.grid()\n",
    "plt.show()"
   ]
  },
  {
   "cell_type": "markdown",
   "metadata": {},
   "source": [
    "> The model appears to fit well for the training data."
   ]
  },
  {
   "cell_type": "markdown",
   "metadata": {},
   "source": [
    "#### 6. Use the predict() method of the model to find the response for each value of the LSTAT attribute in the training set. Using sklearn.metrics.mean_squared_error(), find the average loss 𝓛 for the training set.\n"
   ]
  },
  {
   "cell_type": "code",
   "execution_count": 124,
   "metadata": {},
   "outputs": [
    {
     "name": "stdout",
     "output_type": "stream",
     "text": [
      "(404, 1)\n"
     ]
    }
   ],
   "source": [
    "print(X.shape)\n",
    "y_pred = reg.predict(X)"
   ]
  },
  {
   "cell_type": "code",
   "execution_count": 125,
   "metadata": {},
   "outputs": [
    {
     "name": "stdout",
     "output_type": "stream",
     "text": [
      "[[18.01108099]\n",
      " [17.20671111]\n",
      " [31.14585261]\n",
      " [10.8992741 ]\n",
      " [23.88690489]\n",
      " [28.82102746]\n",
      " [12.19411342]\n",
      " [28.34036741]\n",
      " [32.08755393]\n",
      " [18.20726876]\n",
      " [30.57690806]\n",
      " [19.08030437]\n",
      " [21.64055485]\n",
      " [13.8813283 ]\n",
      " [ 8.25073912]\n",
      " [23.21005706]\n",
      " [17.27537683]\n",
      " [20.51247514]\n",
      " [25.49564465]\n",
      " [24.45584944]\n",
      " [21.16970419]\n",
      " [23.79862039]\n",
      " [17.68737116]\n",
      " [27.04552808]\n",
      " [26.5060117 ]\n",
      " [31.92079432]\n",
      " [25.74087937]\n",
      " [16.62795717]\n",
      " [28.89950257]\n",
      " [20.60075963]\n",
      " [ 3.61089821]\n",
      " [19.5805832 ]\n",
      " [17.72660871]\n",
      " [18.05031854]\n",
      " [20.90485069]\n",
      " [31.9404131 ]\n",
      " [20.74790047]\n",
      " [13.30257436]\n",
      " [22.50378106]\n",
      " [ 7.21094391]\n",
      " [23.98499878]\n",
      " [27.09457503]\n",
      " [31.73441594]\n",
      " [25.87821082]\n",
      " [30.35129211]\n",
      " [21.60131729]\n",
      " [26.54524925]\n",
      " [30.46900478]\n",
      " [16.6868135 ]\n",
      " [21.89559896]\n",
      " [24.89727193]\n",
      " [23.47491056]\n",
      " [27.2907628 ]\n",
      " [26.12344554]\n",
      " [30.41014845]\n",
      " [25.50545404]\n",
      " [31.332231  ]\n",
      " [28.58560213]\n",
      " [27.79104163]\n",
      " [25.75068876]\n",
      " [26.88857786]\n",
      " [28.91912135]\n",
      " [19.09992315]\n",
      " [14.15599119]\n",
      " [26.08420798]\n",
      " [28.49731763]\n",
      " [11.46821865]\n",
      " [24.78936866]\n",
      " [24.88746255]\n",
      " [17.40289888]\n",
      " [25.58392915]\n",
      " [24.91689071]\n",
      " [15.06826435]\n",
      " [23.71033589]\n",
      " [18.22688754]\n",
      " [28.39922374]\n",
      " [23.23948523]\n",
      " [21.80731446]\n",
      " [19.45306114]\n",
      " [19.91410242]\n",
      " [28.84064624]\n",
      " [18.16803121]\n",
      " [30.05701045]\n",
      " [30.75347706]\n",
      " [29.76272879]\n",
      " [13.62628419]\n",
      " [24.31851799]\n",
      " [17.41270827]\n",
      " [25.07384093]\n",
      " [24.6618466 ]\n",
      " [17.26556744]\n",
      " [22.63130312]\n",
      " [21.27760746]\n",
      " [29.33111568]\n",
      " [19.53153625]\n",
      " [22.8274909 ]\n",
      " [27.34961914]\n",
      " [18.15822182]\n",
      " [28.75236174]\n",
      " [22.19969001]\n",
      " [ 8.68235223]\n",
      " [24.69127477]\n",
      " [32.56821399]\n",
      " [12.34125426]\n",
      " [15.49006806]\n",
      " [28.64445846]\n",
      " [18.3544096 ]\n",
      " [31.89136616]\n",
      " [20.47323758]\n",
      " [28.68369602]\n",
      " [30.51805172]\n",
      " [26.22153942]\n",
      " [27.53599752]\n",
      " [27.53599752]\n",
      " [22.13102429]\n",
      " [ 4.95478448]\n",
      " [21.79750507]\n",
      " [27.74199469]\n",
      " [25.48583526]\n",
      " [29.03683401]\n",
      " [23.95557061]\n",
      " [30.449386  ]\n",
      " [14.07751608]\n",
      " [30.22377006]\n",
      " [20.17895592]\n",
      " [30.98890239]\n",
      " [30.91042728]\n",
      " [31.46956244]\n",
      " [32.16602904]\n",
      " [21.73864874]\n",
      " [30.34148273]\n",
      " [16.66719472]\n",
      " [18.86449782]\n",
      " [25.67221365]\n",
      " [18.05031854]\n",
      " [16.99090455]\n",
      " [23.92614244]\n",
      " [31.4989906 ]\n",
      " [27.34961914]\n",
      " [19.07049498]\n",
      " [28.98778707]\n",
      " [27.76161347]\n",
      " [23.19043828]\n",
      " [25.91744837]\n",
      " [22.36644962]\n",
      " [29.96872595]\n",
      " [31.52841877]\n",
      " [28.63464907]\n",
      " [25.29945688]\n",
      " [18.19745938]\n",
      " [12.68458286]\n",
      " [27.62428202]\n",
      " [28.19322658]\n",
      " [19.89448364]\n",
      " [23.24929461]\n",
      " [28.20303596]\n",
      " [29.5763504 ]\n",
      " [30.86138033]\n",
      " [10.55594549]\n",
      " [11.46821865]\n",
      " [31.79327227]\n",
      " [24.56375271]\n",
      " [27.74199469]\n",
      " [21.1598948 ]\n",
      " [17.74622749]\n",
      " [16.34348489]\n",
      " [25.65259487]\n",
      " [25.94687654]\n",
      " [14.07751608]\n",
      " [29.76272879]\n",
      " [29.29187812]\n",
      " [18.88411659]\n",
      " [18.79583209]\n",
      " [29.3997814 ]\n",
      " [26.91800603]\n",
      " [28.75236174]\n",
      " [30.11586678]\n",
      " [25.05422216]\n",
      " [26.9474342 ]\n",
      " [ 1.27626368]\n",
      " [26.57467742]\n",
      " [22.30759329]\n",
      " [ 1.61959228]\n",
      " [30.5376705 ]\n",
      " [31.30280283]\n",
      " [19.50210809]\n",
      " [20.57133147]\n",
      " [27.40847547]\n",
      " [27.57523508]\n",
      " [22.96482234]\n",
      " [26.71200886]\n",
      " [22.5626374 ]\n",
      " [16.63776655]\n",
      " [23.56319506]\n",
      " [18.41326593]\n",
      " [11.65459704]\n",
      " [20.61056902]\n",
      " [30.69462072]\n",
      " [25.02479399]\n",
      " [20.46342819]\n",
      " [20.11029019]\n",
      " [25.67221365]\n",
      " [20.15933714]\n",
      " [22.89615662]\n",
      " [28.36979557]\n",
      " [28.22265474]\n",
      " [22.88634723]\n",
      " [28.9583589 ]\n",
      " [15.59797134]\n",
      " [ 8.85892123]\n",
      " [24.2302335 ]\n",
      " [22.02312101]\n",
      " [18.10917488]\n",
      " [16.58871961]\n",
      " [30.48862356]\n",
      " [24.10271144]\n",
      " [31.52841877]\n",
      " [ 5.59239475]\n",
      " [15.05845496]\n",
      " [24.60299027]\n",
      " [33.10773037]\n",
      " [14.31294141]\n",
      " [33.29410876]\n",
      " [27.31038158]\n",
      " [28.4384613 ]\n",
      " [16.50043511]\n",
      " [22.15064307]\n",
      " [29.52730345]\n",
      " [ 4.94497509]\n",
      " [31.30280283]\n",
      " [30.272817  ]\n",
      " [26.6825807 ]\n",
      " [26.0645892 ]\n",
      " [32.17583843]\n",
      " [11.06603371]\n",
      " [29.60577856]\n",
      " [32.06793516]\n",
      " [30.00796351]\n",
      " [30.23357945]\n",
      " [19.26668276]\n",
      " [24.74032171]\n",
      " [27.24171586]\n",
      " [21.13046663]\n",
      " [20.46342819]\n",
      " [27.98722941]\n",
      " [29.41940018]\n",
      " [23.82804855]\n",
      " [ 7.25018146]\n",
      " [15.84320606]\n",
      " [24.61279966]\n",
      " [ 7.80931662]\n",
      " [29.60577856]\n",
      " [18.71735698]\n",
      " [29.19378423]\n",
      " [26.38829903]\n",
      " [26.64334314]\n",
      " [23.86728611]\n",
      " [17.27537683]\n",
      " [29.80196634]\n",
      " [27.92837308]\n",
      " [27.04552808]\n",
      " [-1.2839868 ]\n",
      " [14.9309329 ]\n",
      " [25.21117238]\n",
      " [13.94999402]\n",
      " [18.57021615]\n",
      " [31.48918122]\n",
      " [24.74032171]\n",
      " [25.6329761 ]\n",
      " [28.00684819]\n",
      " [30.625955  ]\n",
      " [22.59206556]\n",
      " [ 5.87686703]\n",
      " [15.99034689]\n",
      " [11.75269093]\n",
      " [13.94018463]\n",
      " [23.55338567]\n",
      " [25.55450098]\n",
      " [23.10215378]\n",
      " [20.58114086]\n",
      " [23.19043828]\n",
      " [21.90540835]\n",
      " [26.00573287]\n",
      " [20.8950413 ]\n",
      " [25.66240426]\n",
      " [24.99536582]\n",
      " [29.80196634]\n",
      " [32.03850699]\n",
      " [29.41940018]\n",
      " [28.2618923 ]\n",
      " [12.44915753]\n",
      " [22.79806273]\n",
      " [17.88355893]\n",
      " [10.06547605]\n",
      " [11.84097543]\n",
      " [24.32832738]\n",
      " [29.88044145]\n",
      " [ 6.25943319]\n",
      " [31.51860938]\n",
      " [21.25798869]\n",
      " [27.43790364]\n",
      " [17.72660871]\n",
      " [27.34961914]\n",
      " [29.45863773]\n",
      " [14.25408507]\n",
      " [25.62316671]\n",
      " [27.4673318 ]\n",
      " [ 4.98421265]\n",
      " [25.25040993]\n",
      " [23.5239575 ]\n",
      " [18.65850065]\n",
      " [14.76417329]\n",
      " [24.76974988]\n",
      " [21.97407407]\n",
      " [25.64278548]\n",
      " [24.08309266]\n",
      " [21.80731446]\n",
      " [ 4.76840609]\n",
      " [ 8.13302646]\n",
      " [29.12511851]\n",
      " [14.37179774]\n",
      " [30.04720106]\n",
      " [17.28518622]\n",
      " [23.18062889]\n",
      " [ 6.49485852]\n",
      " [26.48639292]\n",
      " [30.26300761]\n",
      " [11.35050599]\n",
      " [31.11642444]\n",
      " [19.73753342]\n",
      " [27.39866608]\n",
      " [26.72181825]\n",
      " [29.70387245]\n",
      " [22.37625901]\n",
      " [27.69294775]\n",
      " [23.75938283]\n",
      " [16.88300128]\n",
      " [ 9.04529961]\n",
      " [27.9087543 ]\n",
      " [28.46788946]\n",
      " [19.09011376]\n",
      " [17.30480499]\n",
      " [29.11530912]\n",
      " [32.07774454]\n",
      " [29.12511851]\n",
      " [23.082535  ]\n",
      " [ 6.00438908]\n",
      " [27.26133464]\n",
      " [22.5626374 ]\n",
      " [29.81177573]\n",
      " [ 7.72103213]\n",
      " [ 9.09434656]\n",
      " [23.72995467]\n",
      " [31.11642444]\n",
      " [29.90006023]\n",
      " [18.95278231]\n",
      " [17.01052333]\n",
      " [28.25208291]\n",
      " [21.96426468]\n",
      " [15.29388029]\n",
      " [27.13381258]\n",
      " [15.03883618]\n",
      " [27.94799186]\n",
      " [29.59596918]\n",
      " [33.04887404]\n",
      " [17.20671111]\n",
      " [17.54023033]\n",
      " [26.07439859]\n",
      " [22.09178673]\n",
      " [ 9.80062255]\n",
      " [30.10605739]\n",
      " [ 1.23702612]\n",
      " [21.1598948 ]\n",
      " [30.48862356]\n",
      " [27.93818247]\n",
      " [28.39922374]\n",
      " [31.89136616]\n",
      " [30.39052967]\n",
      " [30.51805172]\n",
      " [21.4247483 ]\n",
      " [20.48304697]\n",
      " [19.00182926]\n",
      " [28.38941435]\n",
      " [24.9267001 ]\n",
      " [22.95501295]\n",
      " [15.67644645]\n",
      " [ 8.73139917]\n",
      " [31.25375588]\n",
      " [15.45083051]\n",
      " [21.66017363]\n",
      " [26.23134881]\n",
      " [18.21707815]\n",
      " [27.69294775]\n",
      " [19.35496726]\n",
      " [27.60466325]\n",
      " [22.09178673]\n",
      " [31.03794933]\n",
      " [27.09457503]\n",
      " [26.02535165]\n",
      " [11.47802804]\n",
      " [30.93004605]\n",
      " [12.14506648]\n",
      " [28.54636457]\n",
      " [18.83506965]]\n"
     ]
    }
   ],
   "source": [
    "print(y_pred)"
   ]
  },
  {
   "cell_type": "code",
   "execution_count": 126,
   "metadata": {},
   "outputs": [
    {
     "name": "stdout",
     "output_type": "stream",
     "text": [
      " Avg Training loss for LSTAT and MEDV : 38.47893344802523\n"
     ]
    }
   ],
   "source": [
    "print(\" Avg Training loss for LSTAT and MEDV :\",mean_squared_error(t, y_pred))\n",
    "mse_dict['Single Feature Training loss'] = mean_squared_error(t, y_pred)"
   ]
  },
  {
   "cell_type": "markdown",
   "metadata": {},
   "source": [
    "#### 7. Repeat experiment (6) for the test set. How do the training and test MSE values compare?\n"
   ]
  },
  {
   "cell_type": "code",
   "execution_count": 127,
   "metadata": {},
   "outputs": [],
   "source": [
    "x_lstat = x_test[:,12]\n",
    "y_medv = y_test\n",
    "X = x_lstat\n",
    "t = y_medv\n",
    "X = np.reshape(X, (-1, 1))\n",
    "t = np.reshape(t, (-1, 1))"
   ]
  },
  {
   "cell_type": "code",
   "execution_count": 128,
   "metadata": {},
   "outputs": [],
   "source": [
    "y_pred = reg.predict(X)"
   ]
  },
  {
   "cell_type": "code",
   "execution_count": 129,
   "metadata": {},
   "outputs": [
    {
     "name": "stdout",
     "output_type": "stream",
     "text": [
      " Avg Testing loss for LSTAT and MEDV :  38.75054664279497\n"
     ]
    }
   ],
   "source": [
    "print(\" Avg Testing loss for LSTAT and MEDV : \",mean_squared_error(t, y_pred))\n",
    "mse_dict['Single Feature Testing loss'] = mean_squared_error(t, y_pred)"
   ]
  },
  {
   "cell_type": "markdown",
   "metadata": {},
   "source": [
    "#### 8. Let’s see if we can fit the data better with a more flexible model. Use np.hstack() to add a degree-2 polynomial feature to X, then fit a new linear model. How do the training and test MSE values for this model compare to the previous model?\n"
   ]
  },
  {
   "cell_type": "code",
   "execution_count": 130,
   "metadata": {},
   "outputs": [
    {
     "name": "stdout",
     "output_type": "stream",
     "text": [
      "(404, 2)\n"
     ]
    }
   ],
   "source": [
    "X = x_train[:,12]\n",
    "t = y_train\n",
    "X = np.reshape(X, (-1, 1))\n",
    "t = np.reshape(t, (-1, 1))\n",
    "XSq = np.square(X)\n",
    "X = np.hstack((X,XSq))\n",
    "print(X.shape)"
   ]
  },
  {
   "cell_type": "code",
   "execution_count": 131,
   "metadata": {
    "scrolled": false
   },
   "outputs": [],
   "source": [
    "reg = LinearRegression().fit(X, t)\n",
    "y_pred = reg.predict(X)"
   ]
  },
  {
   "cell_type": "code",
   "execution_count": 132,
   "metadata": {},
   "outputs": [
    {
     "name": "stdout",
     "output_type": "stream",
     "text": [
      " Avg training loss for LSTAT and MEDV with poly model : 30.598514349370966\n"
     ]
    }
   ],
   "source": [
    "print(\" Avg training loss for LSTAT and MEDV with poly model :\",mean_squared_error(t, y_pred))\n",
    "mse_dict['Single Feature poly model Training loss'] = mean_squared_error(t, y_pred)"
   ]
  },
  {
   "cell_type": "code",
   "execution_count": 133,
   "metadata": {},
   "outputs": [
    {
     "name": "stdout",
     "output_type": "stream",
     "text": [
      "(102, 2)\n"
     ]
    }
   ],
   "source": [
    "X = x_test[:,12]\n",
    "t = y_test\n",
    "X = np.reshape(X, (-1, 1))\n",
    "t = np.reshape(t, (-1, 1))\n",
    "XSq = np.square(X)\n",
    "X = np.hstack((X,XSq))\n",
    "print(X.shape)"
   ]
  },
  {
   "cell_type": "code",
   "execution_count": 134,
   "metadata": {},
   "outputs": [
    {
     "name": "stdout",
     "output_type": "stream",
     "text": [
      " Avg testing loss for LSTAT and MEDV with poly model:  29.297124138279123\n"
     ]
    }
   ],
   "source": [
    "y_pred = reg.predict(X)\n",
    "print(\" Avg testing loss for LSTAT and MEDV with poly model: \",mean_squared_error(t, y_pred))\n",
    "mse_dict['Single Feature poly model Testing loss'] = mean_squared_error(t, y_pred)"
   ]
  },
  {
   "cell_type": "markdown",
   "metadata": {},
   "source": [
    "> The values are much better than with linear model."
   ]
  },
  {
   "cell_type": "markdown",
   "metadata": {},
   "source": [
    "#### 9. Repeat experiment (5) for your polynomial model.\n"
   ]
  },
  {
   "cell_type": "code",
   "execution_count": 135,
   "metadata": {},
   "outputs": [
    {
     "name": "stdout",
     "output_type": "stream",
     "text": [
      "(404, 2)\n"
     ]
    }
   ],
   "source": [
    "X = x_train[:,12]\n",
    "t = y_train\n",
    "xtemp = X\n",
    "ytemp = t\n",
    "X = np.reshape(X, (-1, 1))\n",
    "t = np.reshape(t, (-1, 1))\n",
    "XSq = np.square(X)\n",
    "X = np.hstack((X,XSq))\n",
    "print(X.shape)\n",
    "reg = LinearRegression().fit(X, t)\n"
   ]
  },
  {
   "cell_type": "code",
   "execution_count": 136,
   "metadata": {},
   "outputs": [
    {
     "data": {
      "text/plain": [
       "(1, 2)"
      ]
     },
     "execution_count": 136,
     "metadata": {},
     "output_type": "execute_result"
    }
   ],
   "source": [
    "reg.coef_\n",
    "reg.coef_.shape"
   ]
  },
  {
   "cell_type": "code",
   "execution_count": 137,
   "metadata": {},
   "outputs": [
    {
     "data": {
      "text/plain": [
       "array([43.07121508])"
      ]
     },
     "execution_count": 137,
     "metadata": {},
     "output_type": "execute_result"
    }
   ],
   "source": [
    "reg.intercept_"
   ]
  },
  {
   "cell_type": "code",
   "execution_count": 138,
   "metadata": {},
   "outputs": [
    {
     "name": "stderr",
     "output_type": "stream",
     "text": [
      "No handles with labels found to put in legend.\n"
     ]
    },
    {
     "data": {
      "image/png": "[encoded data removed]",
      "text/plain": [
       "<Figure size 432x288 with 1 Axes>"
      ]
     },
     "metadata": {
      "needs_background": "light"
     },
     "output_type": "display_data"
    }
   ],
   "source": [
    "x = np.linspace(min(X[:,0]),max(X[:,0]),404)\n",
    "y = reg.intercept_+reg.coef_[0][0]*x +reg.coef_[0][1]*x*x \n",
    "plt.plot(x, y, '-r')\n",
    "plt.legend(loc='upper left')\n",
    "plt.scatter(xtemp, ytemp)\n",
    "plt.xlabel('Lower Status of the Population[LSTAT]')\n",
    "plt.ylabel('Price in $1000s [MEDV]')\n",
    "plt.grid()\n",
    "plt.show()"
   ]
  },
  {
   "cell_type": "markdown",
   "metadata": {},
   "source": [
    "#### 10. Repeat experiments (4), (6), and (7) using all 13 input features as X. How do the training and test MSEs for this model (which is a linear model including all features) compare tothe values you found for experiment (8) ( which was a degree-2 polynomial model including a single feature)? What accounts for the difference? \n"
   ]
  },
  {
   "cell_type": "code",
   "execution_count": 139,
   "metadata": {},
   "outputs": [
    {
     "name": "stdout",
     "output_type": "stream",
     "text": [
      "(404, 13)\n",
      "(404, 1)\n"
     ]
    }
   ],
   "source": [
    "X = x_train\n",
    "t = y_train\n",
    "t = np.reshape(t, (-1, 1))\n",
    "print(X.shape)\n",
    "print(t.shape)"
   ]
  },
  {
   "cell_type": "code",
   "execution_count": 140,
   "metadata": {},
   "outputs": [],
   "source": [
    "reg = LinearRegression().fit(X, t)"
   ]
  },
  {
   "cell_type": "code",
   "execution_count": 141,
   "metadata": {},
   "outputs": [
    {
     "data": {
      "text/plain": [
       "array([[-1.19721961e-01,  5.29635924e-02,  5.16150347e-02,\n",
       "         2.55847703e+00, -1.72524020e+01,  4.08697043e+00,\n",
       "        -4.64415129e-03, -1.52421308e+00,  2.99638323e-01,\n",
       "        -1.37152390e-02, -8.48912621e-01,  6.56971068e-03,\n",
       "        -5.33276034e-01]])"
      ]
     },
     "execution_count": 141,
     "metadata": {},
     "output_type": "execute_result"
    }
   ],
   "source": [
    "reg.coef_"
   ]
  },
  {
   "cell_type": "code",
   "execution_count": 142,
   "metadata": {},
   "outputs": [
    {
     "data": {
      "text/plain": [
       "array([34.33727849])"
      ]
     },
     "execution_count": 142,
     "metadata": {},
     "output_type": "execute_result"
    }
   ],
   "source": [
    "reg.intercept_"
   ]
  },
  {
   "cell_type": "code",
   "execution_count": 143,
   "metadata": {},
   "outputs": [],
   "source": [
    "y_pred = reg.predict(X)"
   ]
  },
  {
   "cell_type": "code",
   "execution_count": 144,
   "metadata": {},
   "outputs": [
    {
     "name": "stdout",
     "output_type": "stream",
     "text": [
      " Avg training loss of all 13 features:  21.046340805342375\n"
     ]
    }
   ],
   "source": [
    "print(\" Avg training loss of all 13 features: \",mean_squared_error(t, y_pred))\n",
    "mse_dict['All Feature Training loss'] = mean_squared_error(t, y_pred)"
   ]
  },
  {
   "cell_type": "code",
   "execution_count": 145,
   "metadata": {},
   "outputs": [
    {
     "name": "stdout",
     "output_type": "stream",
     "text": [
      "(102, 13)\n",
      "(102, 1)\n"
     ]
    }
   ],
   "source": [
    "X = x_test\n",
    "t = y_test\n",
    "t = np.reshape(t, (-1, 1))\n",
    "print(X.shape)\n",
    "print(t.shape)"
   ]
  },
  {
   "cell_type": "code",
   "execution_count": 146,
   "metadata": {},
   "outputs": [],
   "source": [
    "y_pred = reg.predict(X)"
   ]
  },
  {
   "cell_type": "code",
   "execution_count": 147,
   "metadata": {},
   "outputs": [
    {
     "name": "stdout",
     "output_type": "stream",
     "text": [
      "Avg testing loss of all 13 features:  25.976408935996577\n"
     ]
    }
   ],
   "source": [
    "print(\"Avg testing loss of all 13 features: \",mean_squared_error(t, y_pred))\n",
    "mse_dict['All Feature Testing loss'] = mean_squared_error(t, y_pred)"
   ]
  },
  {
   "cell_type": "markdown",
   "metadata": {},
   "source": [
    "> The training set of data performing much better than testing data. And it is much than the previous model."
   ]
  },
  {
   "cell_type": "markdown",
   "metadata": {},
   "source": [
    "#### 11. Combine experiments (8) and (10), using np.hstack() to add the squares of all 13 input features to X. How do this model’s training and test MSE scores compare to the previous model using all 13 features?\n"
   ]
  },
  {
   "cell_type": "code",
   "execution_count": 148,
   "metadata": {},
   "outputs": [],
   "source": [
    "X = x_train\n",
    "t = y_train\n",
    "t = np.reshape(t, (-1, 1))\n",
    "XSq = np.square(X)\n",
    "X = np.hstack((X,XSq))"
   ]
  },
  {
   "cell_type": "code",
   "execution_count": 149,
   "metadata": {},
   "outputs": [
    {
     "name": "stdout",
     "output_type": "stream",
     "text": [
      " Avg Training loss for poly model of all 13 features:  13.508100802461705\n"
     ]
    }
   ],
   "source": [
    "reg = LinearRegression().fit(X, t)\n",
    "y_pred = reg.predict(X)\n",
    "print(\" Avg Training loss for poly model of all 13 features: \",mean_squared_error(t, y_pred))\n",
    "mse_dict['All Feature poly model Training loss'] = mean_squared_error(t, y_pred)"
   ]
  },
  {
   "cell_type": "code",
   "execution_count": 150,
   "metadata": {},
   "outputs": [],
   "source": [
    "X = x_test\n",
    "t = y_test\n",
    "t = np.reshape(t, (-1, 1))\n",
    "XSq = np.square(X)\n",
    "X = np.hstack((X,XSq))"
   ]
  },
  {
   "cell_type": "code",
   "execution_count": 151,
   "metadata": {},
   "outputs": [
    {
     "name": "stdout",
     "output_type": "stream",
     "text": [
      "Avg Testing loss for poly model of all 13 features:  17.857896093007074\n"
     ]
    }
   ],
   "source": [
    "y_pred = reg.predict(X)\n",
    "print(\"Avg Testing loss for poly model of all 13 features: \",mean_squared_error(t, y_pred))\n",
    "mse_dict['All Feature poly model Testing loss'] = mean_squared_error(t, y_pred)"
   ]
  },
  {
   "cell_type": "markdown",
   "metadata": {},
   "source": [
    "> here also the model is performing way better than the previous model."
   ]
  },
  {
   "cell_type": "code",
   "execution_count": 152,
   "metadata": {
    "scrolled": true
   },
   "outputs": [
    {
     "name": "stdout",
     "output_type": "stream",
     "text": [
      "Single Feature Training loss                 38.47893344802523\n",
      "Single Feature Testing loss                  38.75054664279497\n",
      "Single Feature poly model Training loss      30.598514349370966\n",
      "Single Feature poly model Testing loss       29.297124138279123\n",
      "All Feature Training loss                    21.046340805342375\n",
      "All Feature Testing loss                     25.976408935996577\n",
      "All Feature poly model Training loss         13.508100802461705\n",
      "All Feature poly model Testing loss          17.857896093007074\n"
     ]
    }
   ],
   "source": [
    "for i in mse_dict:\n",
    "    print (\"{:45}{:15}\".format(i,mse_dict[i]))"
   ]
  },
  {
   "cell_type": "markdown",
   "metadata": {},
   "source": [
    "#### 12. Scikit-learn is also capable of constructing polynomial features for us using sklearn.preprocessing.PolynomialFeatures, but those features also include interaction features, where the feature terms are multiplied together. Use the fit_transform() method to create degree-2 polynomial and interaction terms for the original set of 13 features, then fit a new linear model. Compare the training and test MSE to the previous model. What is the effect of adding interaction terms in this case? Do we seem to be overfitting?\n"
   ]
  },
  {
   "cell_type": "code",
   "execution_count": 153,
   "metadata": {},
   "outputs": [
    {
     "name": "stdout",
     "output_type": "stream",
     "text": [
      "(404, 13)\n",
      "(404, 105)\n"
     ]
    }
   ],
   "source": [
    "X = x_train\n",
    "t = y_train\n",
    "t = np.reshape(t, (-1, 1))\n",
    "print(X.shape)\n",
    "poly = PolynomialFeatures(2)\n",
    "X = poly.fit_transform(X)\n",
    "print(X.shape)"
   ]
  },
  {
   "cell_type": "code",
   "execution_count": 154,
   "metadata": {},
   "outputs": [
    {
     "name": "stdout",
     "output_type": "stream",
     "text": [
      "Avg Training loss for polyFeatures model of all 13 features:  10.830195267983326\n"
     ]
    }
   ],
   "source": [
    "reg = LinearRegression().fit(X, t)\n",
    "y_pred = reg.predict(X)\n",
    "print(\"Avg Training loss for polyFeatures model of all 13 features: \",mean_squared_error(t, y_pred))\n",
    "mse_dict['All Feature polyFeatures model Training loss'] = mean_squared_error(t, y_pred)"
   ]
  },
  {
   "cell_type": "code",
   "execution_count": 155,
   "metadata": {},
   "outputs": [
    {
     "name": "stdout",
     "output_type": "stream",
     "text": [
      "(102, 13)\n",
      "(102, 105)\n"
     ]
    }
   ],
   "source": [
    "X = x_test\n",
    "t = y_test\n",
    "t = np.reshape(t, (-1, 1))\n",
    "print(X.shape)\n",
    "poly = PolynomialFeatures(2)\n",
    "X = poly.fit_transform(X)\n",
    "print(X.shape)"
   ]
  },
  {
   "cell_type": "code",
   "execution_count": 156,
   "metadata": {},
   "outputs": [
    {
     "name": "stdout",
     "output_type": "stream",
     "text": [
      "Avg Testing loss for polyFeatures model of all 13 features:  20.467478715479583\n"
     ]
    }
   ],
   "source": [
    "\n",
    "y_pred = reg.predict(X)\n",
    "print(\"Avg Testing loss for polyFeatures model of all 13 features: \",mean_squared_error(t, y_pred))\n",
    "mse_dict['All Feature polyFeatures model Testing loss'] = mean_squared_error(t, y_pred)"
   ]
  },
  {
   "cell_type": "code",
   "execution_count": 157,
   "metadata": {},
   "outputs": [
    {
     "name": "stdout",
     "output_type": "stream",
     "text": [
      "Single Feature Training loss                 38.47893344802523\n",
      "Single Feature Testing loss                  38.75054664279497\n",
      "Single Feature poly model Training loss      30.598514349370966\n",
      "Single Feature poly model Testing loss       29.297124138279123\n",
      "All Feature Training loss                    21.046340805342375\n",
      "All Feature Testing loss                     25.976408935996577\n",
      "All Feature poly model Training loss         13.508100802461705\n",
      "All Feature poly model Testing loss          17.857896093007074\n",
      "All Feature polyFeatures model Training loss 10.830195267983326\n",
      "All Feature polyFeatures model Testing loss  20.467478715479583\n"
     ]
    }
   ],
   "source": [
    "for i in mse_dict:\n",
    "    print (\"{:45}{:15}\".format(i,mse_dict[i]))"
   ]
  },
  {
   "cell_type": "markdown",
   "metadata": {},
   "source": [
    "> The model appears to be overfitting. The model is performing worse on test data, I think the problem is in the interaction features."
   ]
  },
  {
   "cell_type": "code",
   "execution_count": null,
   "metadata": {},
   "outputs": [],
   "source": []
  },
  {
   "cell_type": "code",
   "execution_count": null,
   "metadata": {},
   "outputs": [],
   "source": []
  }
 ],
 "metadata": {
  "kernelspec": {
   "display_name": "Python 3",
   "language": "python",
   "name": "python3"
  },
  "language_info": {
   "codemirror_mode": {
    "name": "ipython",
    "version": 3
   },
   "file_extension": ".py",
   "mimetype": "text/x-python",
   "name": "python",
   "nbconvert_exporter": "python",
   "pygments_lexer": "ipython3",
   "version": "3.8.5"
  }
 },
 "nbformat": 4,
 "nbformat_minor": 4
}
